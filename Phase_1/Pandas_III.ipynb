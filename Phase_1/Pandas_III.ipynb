{
 "cells": [
  {
   "cell_type": "markdown",
   "metadata": {},
   "source": [
    "# Pandas III\n",
    "\n",
    "_September 17, 2020_\n",
    "\n",
    "Agenda today:\n",
    "- Statistics in Pandas \n",
    "- Groupby in Pandas\n",
    "- Stacking & Unstacking"
   ]
  },
  {
   "cell_type": "markdown",
   "metadata": {},
   "source": [
    "# Part I. Statistics in Pandas\n",
    "Pandas allow us to calculate various summary statistics for the dataframe, such as mean, variance, and other descriptive statistics measurements. Let's see some examples. "
   ]
  },
  {
   "cell_type": "code",
   "execution_count": 36,
   "metadata": {},
   "outputs": [],
   "source": [
    "import pandas as pd\n",
    "import numpy as np\n",
    "import matplotlib.pyplot as plt\n",
    "pd.set_option(\"display.max_columns\", None)"
   ]
  },
  {
   "cell_type": "code",
   "execution_count": 2,
   "metadata": {
    "scrolled": false
   },
   "outputs": [
    {
     "output_type": "execute_result",
     "data": {
      "text/plain": "       country  beer_servings  spirit_servings  wine_servings  \\\n0  Afghanistan              0                0              0   \n1      Albania             89              132             54   \n2      Algeria             25                0             14   \n3      Andorra            245              138            312   \n4       Angola            217               57             45   \n\n   total_litres_of_pure_alcohol continent  \n0                           0.0        AS  \n1                           4.9        EU  \n2                           0.7        AF  \n3                          12.4        EU  \n4                           5.9        AF  ",
      "text/html": "<div>\n<style scoped>\n    .dataframe tbody tr th:only-of-type {\n        vertical-align: middle;\n    }\n\n    .dataframe tbody tr th {\n        vertical-align: top;\n    }\n\n    .dataframe thead th {\n        text-align: right;\n    }\n</style>\n<table border=\"1\" class=\"dataframe\">\n  <thead>\n    <tr style=\"text-align: right;\">\n      <th></th>\n      <th>country</th>\n      <th>beer_servings</th>\n      <th>spirit_servings</th>\n      <th>wine_servings</th>\n      <th>total_litres_of_pure_alcohol</th>\n      <th>continent</th>\n    </tr>\n  </thead>\n  <tbody>\n    <tr>\n      <th>0</th>\n      <td>Afghanistan</td>\n      <td>0</td>\n      <td>0</td>\n      <td>0</td>\n      <td>0.0</td>\n      <td>AS</td>\n    </tr>\n    <tr>\n      <th>1</th>\n      <td>Albania</td>\n      <td>89</td>\n      <td>132</td>\n      <td>54</td>\n      <td>4.9</td>\n      <td>EU</td>\n    </tr>\n    <tr>\n      <th>2</th>\n      <td>Algeria</td>\n      <td>25</td>\n      <td>0</td>\n      <td>14</td>\n      <td>0.7</td>\n      <td>AF</td>\n    </tr>\n    <tr>\n      <th>3</th>\n      <td>Andorra</td>\n      <td>245</td>\n      <td>138</td>\n      <td>312</td>\n      <td>12.4</td>\n      <td>EU</td>\n    </tr>\n    <tr>\n      <th>4</th>\n      <td>Angola</td>\n      <td>217</td>\n      <td>57</td>\n      <td>45</td>\n      <td>5.9</td>\n      <td>AF</td>\n    </tr>\n  </tbody>\n</table>\n</div>"
     },
     "metadata": {},
     "execution_count": 2
    }
   ],
   "source": [
    "df = pd.read_csv('https://raw.githubusercontent.com/justmarkham/DAT8/master/data/drinks.csv')\n",
    "df.head()"
   ]
  },
  {
   "cell_type": "code",
   "execution_count": 4,
   "metadata": {},
   "outputs": [
    {
     "output_type": "execute_result",
     "data": {
      "text/plain": "2                       Algeria\n4                        Angola\n18                        Benin\n22                     Botswana\n26                 Burkina Faso\n27                      Burundi\n28                Cote d'Ivoire\n29                   Cabo Verde\n31                     Cameroon\n33     Central African Republic\n34                         Chad\n38                      Comoros\n39                        Congo\n47                     DR Congo\n49                     Djibouti\n53                        Egypt\n55            Equatorial Guinea\n56                      Eritrea\n58                     Ethiopia\n62                        Gabon\n63                       Gambia\n66                        Ghana\n70                       Guinea\n71                Guinea-Bissau\n88                        Kenya\n95                      Lesotho\n96                      Liberia\n97                        Libya\n100                  Madagascar\n101                      Malawi\n104                        Mali\n107                  Mauritania\n108                   Mauritius\n114                     Morocco\n115                  Mozambique\n117                     Namibia\n123                       Niger\n124                     Nigeria\n142                      Rwanda\n148         Sao Tome & Principe\n150                     Senegal\n152                  Seychelles\n153                Sierra Leone\n158                     Somalia\n159                South Africa\n162                       Sudan\n164                   Swaziland\n172                        Togo\n175                     Tunisia\n179                      Uganda\n183                    Tanzania\n191                      Zambia\n192                    Zimbabwe\nName: country, dtype: object"
     },
     "metadata": {},
     "execution_count": 4
    }
   ],
   "source": [
    "#check the info\n",
    "df[df.continent== 'AF']['country']"
   ]
  },
  {
   "cell_type": "code",
   "execution_count": null,
   "metadata": {},
   "outputs": [],
   "source": [
    "# calculate mean beer_servings\n"
   ]
  },
  {
   "cell_type": "code",
   "execution_count": null,
   "metadata": {
    "scrolled": true
   },
   "outputs": [],
   "source": [
    "# calculate summary statistics for all measurements\n"
   ]
  },
  {
   "cell_type": "code",
   "execution_count": null,
   "metadata": {
    "scrolled": true
   },
   "outputs": [],
   "source": [
    "# how could we view summary statistics for categorical variable?\n"
   ]
  },
  {
   "cell_type": "code",
   "execution_count": null,
   "metadata": {
    "scrolled": true
   },
   "outputs": [],
   "source": [
    "# reviewing subsetting and selecting - select the countries on continent AF\n"
   ]
  },
  {
   "cell_type": "markdown",
   "metadata": {},
   "source": [
    "## Part II. Pandas Groupby\n",
    "Groupby methods in Pandas allow you to aggregate data and perform operations on them. The method can be summarized as split-apply-combine. The groupby function allow us to split the dataframe into _groups_, apply operations on them, and aggregate a final result. Let's look at some examples. "
   ]
  },
  {
   "cell_type": "code",
   "execution_count": 5,
   "metadata": {},
   "outputs": [
    {
     "output_type": "execute_result",
     "data": {
      "text/plain": "          beer_servings                                                      \\\n                  count        mean        std   min     25%    50%     75%   \ncontinent                                                                     \nAF                 53.0   61.471698  80.557816   0.0   15.00   32.0   76.00   \nAS                 44.0   37.045455  49.469725   0.0    4.25   17.5   60.50   \nEU                 45.0  193.777778  99.631569   0.0  127.00  219.0  270.00   \nOC                 16.0   89.687500  96.641412   0.0   21.00   52.5  125.75   \nSA                 12.0  175.083333  65.242845  93.0  129.50  162.5  198.00   \n\n                 spirit_servings                                             \\\n             max           count        mean        std   min    25%    50%   \ncontinent                                                                     \nAF         376.0            53.0   16.339623  28.102794   0.0   1.00    3.0   \nAS         247.0            44.0   60.840909  84.362160   0.0   1.00   16.0   \nEU         361.0            45.0  132.555556  77.589115   0.0  81.00  122.0   \nOC         306.0            16.0   58.437500  70.504817   0.0  18.00   37.0   \nSA         333.0            12.0  114.750000  77.077440  25.0  65.75  108.5   \n\n                         wine_servings                                    \\\n              75%    max         count        mean        std  min   25%   \ncontinent                                                                  \nAF          19.00  152.0          53.0   16.264151  38.846419  0.0   1.0   \nAS          98.00  326.0          44.0    9.068182  21.667034  0.0   0.0   \nEU         173.00  373.0          45.0  142.222222  97.421738  0.0  59.0   \nOC          65.25  254.0          16.0   35.625000  64.555790  0.0   1.0   \nSA         148.75  302.0          12.0   62.416667  88.620189  1.0   3.0   \n\n                                total_litres_of_pure_alcohol            \\\n             50%     75%    max                        count      mean   \ncontinent                                                                \nAF           2.0   13.00  233.0                         53.0  3.007547   \nAS           1.0    8.00  123.0                         44.0  2.170455   \nEU         128.0  195.00  370.0                         45.0  8.617778   \nOC           8.5   23.25  212.0                         16.0  3.381250   \nSA          12.0   98.50  221.0                         12.0  6.308333   \n\n                                                     \n                std  min   25%    50%     75%   max  \ncontinent                                            \nAF         2.647557  0.0  0.70   2.30   4.700   9.1  \nAS         2.770239  0.0  0.10   1.20   2.425  11.5  \nEU         3.358455  0.0  6.60  10.00  10.900  14.4  \nOC         3.345688  0.0  1.00   1.75   6.150  10.4  \nSA         1.531166  3.8  5.25   6.85   7.375   8.3  ",
      "text/html": "<div>\n<style scoped>\n    .dataframe tbody tr th:only-of-type {\n        vertical-align: middle;\n    }\n\n    .dataframe tbody tr th {\n        vertical-align: top;\n    }\n\n    .dataframe thead tr th {\n        text-align: left;\n    }\n\n    .dataframe thead tr:last-of-type th {\n        text-align: right;\n    }\n</style>\n<table border=\"1\" class=\"dataframe\">\n  <thead>\n    <tr>\n      <th></th>\n      <th colspan=\"8\" halign=\"left\">beer_servings</th>\n      <th colspan=\"8\" halign=\"left\">spirit_servings</th>\n      <th colspan=\"8\" halign=\"left\">wine_servings</th>\n      <th colspan=\"8\" halign=\"left\">total_litres_of_pure_alcohol</th>\n    </tr>\n    <tr>\n      <th></th>\n      <th>count</th>\n      <th>mean</th>\n      <th>std</th>\n      <th>min</th>\n      <th>25%</th>\n      <th>50%</th>\n      <th>75%</th>\n      <th>max</th>\n      <th>count</th>\n      <th>mean</th>\n      <th>std</th>\n      <th>min</th>\n      <th>25%</th>\n      <th>50%</th>\n      <th>75%</th>\n      <th>max</th>\n      <th>count</th>\n      <th>mean</th>\n      <th>std</th>\n      <th>min</th>\n      <th>25%</th>\n      <th>50%</th>\n      <th>75%</th>\n      <th>max</th>\n      <th>count</th>\n      <th>mean</th>\n      <th>std</th>\n      <th>min</th>\n      <th>25%</th>\n      <th>50%</th>\n      <th>75%</th>\n      <th>max</th>\n    </tr>\n    <tr>\n      <th>continent</th>\n      <th></th>\n      <th></th>\n      <th></th>\n      <th></th>\n      <th></th>\n      <th></th>\n      <th></th>\n      <th></th>\n      <th></th>\n      <th></th>\n      <th></th>\n      <th></th>\n      <th></th>\n      <th></th>\n      <th></th>\n      <th></th>\n      <th></th>\n      <th></th>\n      <th></th>\n      <th></th>\n      <th></th>\n      <th></th>\n      <th></th>\n      <th></th>\n      <th></th>\n      <th></th>\n      <th></th>\n      <th></th>\n      <th></th>\n      <th></th>\n      <th></th>\n      <th></th>\n    </tr>\n  </thead>\n  <tbody>\n    <tr>\n      <th>AF</th>\n      <td>53.0</td>\n      <td>61.471698</td>\n      <td>80.557816</td>\n      <td>0.0</td>\n      <td>15.00</td>\n      <td>32.0</td>\n      <td>76.00</td>\n      <td>376.0</td>\n      <td>53.0</td>\n      <td>16.339623</td>\n      <td>28.102794</td>\n      <td>0.0</td>\n      <td>1.00</td>\n      <td>3.0</td>\n      <td>19.00</td>\n      <td>152.0</td>\n      <td>53.0</td>\n      <td>16.264151</td>\n      <td>38.846419</td>\n      <td>0.0</td>\n      <td>1.0</td>\n      <td>2.0</td>\n      <td>13.00</td>\n      <td>233.0</td>\n      <td>53.0</td>\n      <td>3.007547</td>\n      <td>2.647557</td>\n      <td>0.0</td>\n      <td>0.70</td>\n      <td>2.30</td>\n      <td>4.700</td>\n      <td>9.1</td>\n    </tr>\n    <tr>\n      <th>AS</th>\n      <td>44.0</td>\n      <td>37.045455</td>\n      <td>49.469725</td>\n      <td>0.0</td>\n      <td>4.25</td>\n      <td>17.5</td>\n      <td>60.50</td>\n      <td>247.0</td>\n      <td>44.0</td>\n      <td>60.840909</td>\n      <td>84.362160</td>\n      <td>0.0</td>\n      <td>1.00</td>\n      <td>16.0</td>\n      <td>98.00</td>\n      <td>326.0</td>\n      <td>44.0</td>\n      <td>9.068182</td>\n      <td>21.667034</td>\n      <td>0.0</td>\n      <td>0.0</td>\n      <td>1.0</td>\n      <td>8.00</td>\n      <td>123.0</td>\n      <td>44.0</td>\n      <td>2.170455</td>\n      <td>2.770239</td>\n      <td>0.0</td>\n      <td>0.10</td>\n      <td>1.20</td>\n      <td>2.425</td>\n      <td>11.5</td>\n    </tr>\n    <tr>\n      <th>EU</th>\n      <td>45.0</td>\n      <td>193.777778</td>\n      <td>99.631569</td>\n      <td>0.0</td>\n      <td>127.00</td>\n      <td>219.0</td>\n      <td>270.00</td>\n      <td>361.0</td>\n      <td>45.0</td>\n      <td>132.555556</td>\n      <td>77.589115</td>\n      <td>0.0</td>\n      <td>81.00</td>\n      <td>122.0</td>\n      <td>173.00</td>\n      <td>373.0</td>\n      <td>45.0</td>\n      <td>142.222222</td>\n      <td>97.421738</td>\n      <td>0.0</td>\n      <td>59.0</td>\n      <td>128.0</td>\n      <td>195.00</td>\n      <td>370.0</td>\n      <td>45.0</td>\n      <td>8.617778</td>\n      <td>3.358455</td>\n      <td>0.0</td>\n      <td>6.60</td>\n      <td>10.00</td>\n      <td>10.900</td>\n      <td>14.4</td>\n    </tr>\n    <tr>\n      <th>OC</th>\n      <td>16.0</td>\n      <td>89.687500</td>\n      <td>96.641412</td>\n      <td>0.0</td>\n      <td>21.00</td>\n      <td>52.5</td>\n      <td>125.75</td>\n      <td>306.0</td>\n      <td>16.0</td>\n      <td>58.437500</td>\n      <td>70.504817</td>\n      <td>0.0</td>\n      <td>18.00</td>\n      <td>37.0</td>\n      <td>65.25</td>\n      <td>254.0</td>\n      <td>16.0</td>\n      <td>35.625000</td>\n      <td>64.555790</td>\n      <td>0.0</td>\n      <td>1.0</td>\n      <td>8.5</td>\n      <td>23.25</td>\n      <td>212.0</td>\n      <td>16.0</td>\n      <td>3.381250</td>\n      <td>3.345688</td>\n      <td>0.0</td>\n      <td>1.00</td>\n      <td>1.75</td>\n      <td>6.150</td>\n      <td>10.4</td>\n    </tr>\n    <tr>\n      <th>SA</th>\n      <td>12.0</td>\n      <td>175.083333</td>\n      <td>65.242845</td>\n      <td>93.0</td>\n      <td>129.50</td>\n      <td>162.5</td>\n      <td>198.00</td>\n      <td>333.0</td>\n      <td>12.0</td>\n      <td>114.750000</td>\n      <td>77.077440</td>\n      <td>25.0</td>\n      <td>65.75</td>\n      <td>108.5</td>\n      <td>148.75</td>\n      <td>302.0</td>\n      <td>12.0</td>\n      <td>62.416667</td>\n      <td>88.620189</td>\n      <td>1.0</td>\n      <td>3.0</td>\n      <td>12.0</td>\n      <td>98.50</td>\n      <td>221.0</td>\n      <td>12.0</td>\n      <td>6.308333</td>\n      <td>1.531166</td>\n      <td>3.8</td>\n      <td>5.25</td>\n      <td>6.85</td>\n      <td>7.375</td>\n      <td>8.3</td>\n    </tr>\n  </tbody>\n</table>\n</div>"
     },
     "metadata": {},
     "execution_count": 5
    }
   ],
   "source": [
    "# review summary statistics for each continent\n",
    "df.groupby(['continent']).describe()"
   ]
  },
  {
   "cell_type": "code",
   "execution_count": 8,
   "metadata": {},
   "outputs": [
    {
     "output_type": "execute_result",
     "data": {
      "text/plain": "           beer_servings  wine_servings\ncontinent                              \nAF             61.471698      16.264151\nAS             37.045455       9.068182\nEU            193.777778     142.222222\nOC             89.687500      35.625000\nSA            175.083333      62.416667",
      "text/html": "<div>\n<style scoped>\n    .dataframe tbody tr th:only-of-type {\n        vertical-align: middle;\n    }\n\n    .dataframe tbody tr th {\n        vertical-align: top;\n    }\n\n    .dataframe thead th {\n        text-align: right;\n    }\n</style>\n<table border=\"1\" class=\"dataframe\">\n  <thead>\n    <tr style=\"text-align: right;\">\n      <th></th>\n      <th>beer_servings</th>\n      <th>wine_servings</th>\n    </tr>\n    <tr>\n      <th>continent</th>\n      <th></th>\n      <th></th>\n    </tr>\n  </thead>\n  <tbody>\n    <tr>\n      <th>AF</th>\n      <td>61.471698</td>\n      <td>16.264151</td>\n    </tr>\n    <tr>\n      <th>AS</th>\n      <td>37.045455</td>\n      <td>9.068182</td>\n    </tr>\n    <tr>\n      <th>EU</th>\n      <td>193.777778</td>\n      <td>142.222222</td>\n    </tr>\n    <tr>\n      <th>OC</th>\n      <td>89.687500</td>\n      <td>35.625000</td>\n    </tr>\n    <tr>\n      <th>SA</th>\n      <td>175.083333</td>\n      <td>62.416667</td>\n    </tr>\n  </tbody>\n</table>\n</div>"
     },
     "metadata": {},
     "execution_count": 8
    }
   ],
   "source": [
    "# which continent drinks more beer on average?\n",
    "df.groupby(['continent'])['beer_servings','wine_servings'].mean()"
   ]
  },
  {
   "cell_type": "code",
   "execution_count": null,
   "metadata": {},
   "outputs": [],
   "source": [
    "# exercise - which continent drinks more beer than wine?\n"
   ]
  },
  {
   "cell_type": "code",
   "execution_count": 12,
   "metadata": {},
   "outputs": [],
   "source": [
    "# you can also groupby multiple columns - which will result in a hierarchical index. \n",
    "\n",
    "# read in df from this url https://raw.githubusercontent.com/justmarkham/DAT8/master/data/u.user\n",
    "\n",
    "# and set the index as user_id\n",
    "occupations = pd.read_csv('https://raw.githubusercontent.com/justmarkham/DAT8/master/data/u.user', sep= '|')"
   ]
  },
  {
   "cell_type": "code",
   "execution_count": 15,
   "metadata": {
    "scrolled": true
   },
   "outputs": [
    {
     "output_type": "execute_result",
     "data": {
      "text/plain": "occupation\nretired          63.071429\ndoctor           43.571429\neducator         42.010526\nhealthcare       41.562500\nlibrarian        40.000000\nadministrator    38.746835\nexecutive        38.718750\nmarketing        37.615385\nlawyer           36.750000\nengineer         36.388060\nwriter           36.311111\nsalesman         35.666667\nscientist        35.548387\nother            34.523810\ntechnician       33.148148\nprogrammer       33.121212\nhomemaker        32.571429\nartist           31.392857\nentertainment    29.222222\nnone             26.555556\nstudent          22.081633\nName: age, dtype: float64"
     },
     "metadata": {},
     "execution_count": 15
    }
   ],
   "source": [
    "occupations.groupby(['occupation'])['age'].mean().sort_values(ascending = False)"
   ]
  },
  {
   "cell_type": "code",
   "execution_count": 13,
   "metadata": {},
   "outputs": [
    {
     "output_type": "execute_result",
     "data": {
      "text/plain": "   user_id  age gender  occupation zip_code\n0        1   24      M  technician    85711\n1        2   53      F       other    94043\n2        3   23      M      writer    32067\n3        4   24      M  technician    43537\n4        5   33      F       other    15213",
      "text/html": "<div>\n<style scoped>\n    .dataframe tbody tr th:only-of-type {\n        vertical-align: middle;\n    }\n\n    .dataframe tbody tr th {\n        vertical-align: top;\n    }\n\n    .dataframe thead th {\n        text-align: right;\n    }\n</style>\n<table border=\"1\" class=\"dataframe\">\n  <thead>\n    <tr style=\"text-align: right;\">\n      <th></th>\n      <th>user_id</th>\n      <th>age</th>\n      <th>gender</th>\n      <th>occupation</th>\n      <th>zip_code</th>\n    </tr>\n  </thead>\n  <tbody>\n    <tr>\n      <th>0</th>\n      <td>1</td>\n      <td>24</td>\n      <td>M</td>\n      <td>technician</td>\n      <td>85711</td>\n    </tr>\n    <tr>\n      <th>1</th>\n      <td>2</td>\n      <td>53</td>\n      <td>F</td>\n      <td>other</td>\n      <td>94043</td>\n    </tr>\n    <tr>\n      <th>2</th>\n      <td>3</td>\n      <td>23</td>\n      <td>M</td>\n      <td>writer</td>\n      <td>32067</td>\n    </tr>\n    <tr>\n      <th>3</th>\n      <td>4</td>\n      <td>24</td>\n      <td>M</td>\n      <td>technician</td>\n      <td>43537</td>\n    </tr>\n    <tr>\n      <th>4</th>\n      <td>5</td>\n      <td>33</td>\n      <td>F</td>\n      <td>other</td>\n      <td>15213</td>\n    </tr>\n  </tbody>\n</table>\n</div>"
     },
     "metadata": {},
     "execution_count": 13
    }
   ],
   "source": [
    "# calculate the mean age per occupation\n",
    "occupations.head()"
   ]
  },
  {
   "cell_type": "code",
   "execution_count": 17,
   "metadata": {
    "scrolled": true
   },
   "outputs": [
    {
     "output_type": "execute_result",
     "data": {
      "text/plain": "gender  occupation   \nF       administrator    40.638889\n        artist           30.307692\n        educator         39.115385\n        engineer         29.500000\n        entertainment    31.000000\n        executive        44.000000\n        healthcare       39.818182\n        homemaker        34.166667\n        lawyer           39.500000\n        librarian        40.000000\n        marketing        37.200000\n        none             36.500000\n        other            35.472222\n        programmer       32.166667\n        retired          70.000000\n        salesman         27.000000\n        scientist        28.333333\n        student          20.750000\n        technician       38.000000\n        writer           37.631579\nM       administrator    37.162791\n        artist           32.333333\n        doctor           43.571429\n        educator         43.101449\n        engineer         36.600000\n        entertainment    29.000000\n        executive        38.172414\n        healthcare       45.400000\n        homemaker        23.000000\n        lawyer           36.200000\n        librarian        40.000000\n        marketing        37.875000\n        none             18.600000\n        other            34.028986\n        programmer       33.216667\n        retired          62.538462\n        salesman         38.555556\n        scientist        36.321429\n        student          22.669118\n        technician       32.961538\n        writer           35.346154\nName: age, dtype: float64"
     },
     "metadata": {},
     "execution_count": 17
    }
   ],
   "source": [
    "# for each combination of sex and occupation, show the mean age, assigned it to group by age\n",
    "occupations.groupby(['gender','occupation'])['age'].mean()"
   ]
  },
  {
   "cell_type": "code",
   "execution_count": 33,
   "metadata": {},
   "outputs": [
    {
     "output_type": "execute_result",
     "data": {
      "text/plain": "occupation\nhomemaker        0.857143\nhealthcare       0.687500\nlibrarian        0.568627\nartist           0.464286\nadministrator    0.455696\nnone             0.444444\nwriter           0.422222\nmarketing        0.384615\nother            0.342857\nstudent          0.306122\neducator         0.273684\nsalesman         0.250000\nlawyer           0.166667\nentertainment    0.111111\nscientist        0.096774\nexecutive        0.093750\nprogrammer       0.090909\nretired          0.071429\ntechnician       0.037037\nengineer         0.029851\nName: gender, dtype: float64"
     },
     "metadata": {},
     "execution_count": 33
    }
   ],
   "source": [
    "# exercise - for each occupation, calculate the percentage of female and sort it from high to low\n",
    "#occupation.groupby(['occupation'])map.(['gender']=='F')\n",
    "\n",
    "occupations.groupby(['occupation'])['gender'].value_counts(normalize= True)[:,'F'].sort_values(ascending = False)"
   ]
  },
  {
   "cell_type": "code",
   "execution_count": null,
   "metadata": {
    "scrolled": true
   },
   "outputs": [],
   "source": []
  },
  {
   "cell_type": "code",
   "execution_count": null,
   "metadata": {
    "scrolled": true
   },
   "outputs": [],
   "source": []
  },
  {
   "cell_type": "code",
   "execution_count": null,
   "metadata": {},
   "outputs": [],
   "source": []
  },
  {
   "cell_type": "markdown",
   "metadata": {},
   "source": [
    "## Part III. Stacking & Unstack\n",
    "Stack and unstack in Pandas provide a way for us to easily manipulate the format of our dataframes. As we see above, the row index can have hierarchy - where one level of index is nested under another. This structure can happen for columns as well. If we want to manipulate the structure of rows and columns, we need to learn stack() and unstack().\n",
    "\n",
    "**Stack()**\n",
    "\n",
    "<img src = 'stack.png' width = 450>\n",
    "\n",
    "**Unstack()**\n",
    "\n",
    "<img src = 'unstack.png' width = 450>\n",
    "\n",
    "What you you think is happening here?"
   ]
  },
  {
   "cell_type": "code",
   "execution_count": null,
   "metadata": {},
   "outputs": [],
   "source": [
    "# turn group by age from long to wide \n"
   ]
  },
  {
   "cell_type": "code",
   "execution_count": null,
   "metadata": {},
   "outputs": [],
   "source": [
    "# play around with stacking and unstacking for the above datasets\n"
   ]
  },
  {
   "cell_type": "markdown",
   "metadata": {},
   "source": [
    "#### Optional exercises & level up - the Adult dataset "
   ]
  },
  {
   "cell_type": "code",
   "execution_count": 38,
   "metadata": {},
   "outputs": [],
   "source": [
    "# read in the adults dataset \n",
    "url = 'https://archive.ics.uci.edu/ml/machine-learning-databases/adult/adult.data'\n",
    "adults = pd.read_csv(url)"
   ]
  },
  {
   "cell_type": "code",
   "execution_count": 40,
   "metadata": {},
   "outputs": [
    {
     "output_type": "execute_result",
     "data": {
      "text/plain": "   age          workclass  fnlwgt   education  education-num  \\\n0   50   Self-emp-not-inc   83311   Bachelors             13   \n1   38            Private  215646     HS-grad              9   \n2   53            Private  234721        11th              7   \n3   28            Private  338409   Bachelors             13   \n4   37            Private  284582     Masters             14   \n\n        marital_status          occupation    relationship    race      sex  \\\n0   Married-civ-spouse     Exec-managerial         Husband   White     Male   \n1             Divorced   Handlers-cleaners   Not-in-family   White     Male   \n2   Married-civ-spouse   Handlers-cleaners         Husband   Black     Male   \n3   Married-civ-spouse      Prof-specialty            Wife   Black   Female   \n4   Married-civ-spouse     Exec-managerial            Wife   White   Female   \n\n   capital_gain  capital_loss  hours_per_week  native_country  income  \n0             0             0              13   United-States   <=50K  \n1             0             0              40   United-States   <=50K  \n2             0             0              40   United-States   <=50K  \n3             0             0              40            Cuba   <=50K  \n4             0             0              40   United-States   <=50K  ",
      "text/html": "<div>\n<style scoped>\n    .dataframe tbody tr th:only-of-type {\n        vertical-align: middle;\n    }\n\n    .dataframe tbody tr th {\n        vertical-align: top;\n    }\n\n    .dataframe thead th {\n        text-align: right;\n    }\n</style>\n<table border=\"1\" class=\"dataframe\">\n  <thead>\n    <tr style=\"text-align: right;\">\n      <th></th>\n      <th>age</th>\n      <th>workclass</th>\n      <th>fnlwgt</th>\n      <th>education</th>\n      <th>education-num</th>\n      <th>marital_status</th>\n      <th>occupation</th>\n      <th>relationship</th>\n      <th>race</th>\n      <th>sex</th>\n      <th>capital_gain</th>\n      <th>capital_loss</th>\n      <th>hours_per_week</th>\n      <th>native_country</th>\n      <th>income</th>\n    </tr>\n  </thead>\n  <tbody>\n    <tr>\n      <th>0</th>\n      <td>50</td>\n      <td>Self-emp-not-inc</td>\n      <td>83311</td>\n      <td>Bachelors</td>\n      <td>13</td>\n      <td>Married-civ-spouse</td>\n      <td>Exec-managerial</td>\n      <td>Husband</td>\n      <td>White</td>\n      <td>Male</td>\n      <td>0</td>\n      <td>0</td>\n      <td>13</td>\n      <td>United-States</td>\n      <td>&lt;=50K</td>\n    </tr>\n    <tr>\n      <th>1</th>\n      <td>38</td>\n      <td>Private</td>\n      <td>215646</td>\n      <td>HS-grad</td>\n      <td>9</td>\n      <td>Divorced</td>\n      <td>Handlers-cleaners</td>\n      <td>Not-in-family</td>\n      <td>White</td>\n      <td>Male</td>\n      <td>0</td>\n      <td>0</td>\n      <td>40</td>\n      <td>United-States</td>\n      <td>&lt;=50K</td>\n    </tr>\n    <tr>\n      <th>2</th>\n      <td>53</td>\n      <td>Private</td>\n      <td>234721</td>\n      <td>11th</td>\n      <td>7</td>\n      <td>Married-civ-spouse</td>\n      <td>Handlers-cleaners</td>\n      <td>Husband</td>\n      <td>Black</td>\n      <td>Male</td>\n      <td>0</td>\n      <td>0</td>\n      <td>40</td>\n      <td>United-States</td>\n      <td>&lt;=50K</td>\n    </tr>\n    <tr>\n      <th>3</th>\n      <td>28</td>\n      <td>Private</td>\n      <td>338409</td>\n      <td>Bachelors</td>\n      <td>13</td>\n      <td>Married-civ-spouse</td>\n      <td>Prof-specialty</td>\n      <td>Wife</td>\n      <td>Black</td>\n      <td>Female</td>\n      <td>0</td>\n      <td>0</td>\n      <td>40</td>\n      <td>Cuba</td>\n      <td>&lt;=50K</td>\n    </tr>\n    <tr>\n      <th>4</th>\n      <td>37</td>\n      <td>Private</td>\n      <td>284582</td>\n      <td>Masters</td>\n      <td>14</td>\n      <td>Married-civ-spouse</td>\n      <td>Exec-managerial</td>\n      <td>Wife</td>\n      <td>White</td>\n      <td>Female</td>\n      <td>0</td>\n      <td>0</td>\n      <td>40</td>\n      <td>United-States</td>\n      <td>&lt;=50K</td>\n    </tr>\n  </tbody>\n</table>\n</div>"
     },
     "metadata": {},
     "execution_count": 40
    }
   ],
   "source": [
    "# create a column called income binary, 1 if income >50k 0 otherwise\n"
   ]
  },
  {
   "cell_type": "code",
   "execution_count": null,
   "metadata": {},
   "outputs": [],
   "source": [
    "# explore the racial distribution of income (you should use stack or unstack here)\n",
    "\n",
    "# this show allows us to calculate the proportion of people who earned more than 50k by race"
   ]
  },
  {
   "cell_type": "code",
   "execution_count": null,
   "metadata": {},
   "outputs": [],
   "source": [
    "# explore the gender distribution of income (you should use stack or unstack here)\n",
    "\n",
    "# this show allows us to calculate the proportion of people who earned more than 50k by gender"
   ]
  }
 ],
 "metadata": {
  "kernelspec": {
   "display_name": "Python 3",
   "language": "python",
   "name": "python3"
  },
  "language_info": {
   "codemirror_mode": {
    "name": "ipython",
    "version": 3
   },
   "file_extension": ".py",
   "mimetype": "text/x-python",
   "name": "python",
   "nbconvert_exporter": "python",
   "pygments_lexer": "ipython3",
   "version": "3.6.9-final"
  }
 },
 "nbformat": 4,
 "nbformat_minor": 2
}